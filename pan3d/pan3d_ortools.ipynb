{
  "nbformat": 4,
  "nbformat_minor": 0,
  "metadata": {
    "colab": {
      "provenance": [],
      "authorship_tag": "ABX9TyM/odkXjgqRJfaNZR5QILjn",
      "include_colab_link": true
    },
    "kernelspec": {
      "name": "python3",
      "display_name": "Python 3"
    },
    "language_info": {
      "name": "python"
    }
  },
  "cells": [
    {
      "cell_type": "markdown",
      "metadata": {
        "id": "view-in-github",
        "colab_type": "text"
      },
      "source": [
        "<a href=\"https://colab.research.google.com/github/eyaler/constrained/blob/main/pan3d/pan3d_ortools.ipynb\" target=\"_parent\"><img src=\"https://colab.research.google.com/assets/colab-badge.svg\" alt=\"Open In Colab\"/></a>"
      ]
    },
    {
      "cell_type": "markdown",
      "source": [
        "# Let our optima combine!\n",
        "\n",
        "### A tutorial on combinatorial optimization with OR-Tools CP-SAT\n",
        "\n",
        "or\n",
        "\n",
        "### Can any form (diamond, pyramid) contain all ~~26~~ 27 letters?\n",
        "\n",
        "[[Word Ways Challanges (Part 1)](https://digitalcommons.butler.edu/cgi/viewcontent.cgi?article=2326&context=wordways) (1979)]\n"
      ],
      "metadata": {
        "id": "93u9mLcaSlU-"
      }
    },
    {
      "cell_type": "code",
      "source": [
        "import locale\n",
        "locale.getpreferredencoding = lambda: 'UTF-8'\n",
        "\n",
        "from IPython.display import IFrame\n",
        "\n",
        "IFrame(src='https://eyalgruss.com/constrained/pan3d/demo#אבגדהוזחטיךכלםמןנסעףפץצקרשת', width=1600, height=900)"
      ],
      "metadata": {
        "id": "kCJyUrX18g-Q",
        "colab": {
          "base_uri": "https://localhost:8080/",
          "height": 921
        },
        "outputId": "e7a78145-547f-4802-8d07-b0e9178e0b6c"
      },
      "execution_count": 1,
      "outputs": [
        {
          "output_type": "execute_result",
          "data": {
            "text/plain": [
              "<IPython.lib.display.IFrame at 0x7aa789c6dba0>"
            ],
            "text/html": [
              "\n",
              "        <iframe\n",
              "            width=\"1600\"\n",
              "            height=\"900\"\n",
              "            src=\"https://eyalgruss.com/constrained/pan3d/demo#אבגדהוזחטיךכלםמןנסעףפץצקרשת\"\n",
              "            frameborder=\"0\"\n",
              "            allowfullscreen\n",
              "            \n",
              "        ></iframe>\n",
              "        "
            ]
          },
          "metadata": {},
          "execution_count": 1
        }
      ]
    },
    {
      "cell_type": "code",
      "source": [
        "#@title Install dependencies\n",
        "\n",
        "!pip install ortools"
      ],
      "metadata": {
        "id": "USSD6mjxGhCM",
        "colab": {
          "base_uri": "https://localhost:8080/"
        },
        "outputId": "d34e1021-4639-4d17-8682-1812026398f7"
      },
      "execution_count": 2,
      "outputs": [
        {
          "output_type": "stream",
          "name": "stdout",
          "text": [
            "Collecting ortools\n",
            "  Downloading ortools-9.11.4210-cp310-cp310-manylinux_2_17_x86_64.manylinux2014_x86_64.whl.metadata (3.0 kB)\n",
            "Collecting absl-py>=2.0.0 (from ortools)\n",
            "  Downloading absl_py-2.1.0-py3-none-any.whl.metadata (2.3 kB)\n",
            "Requirement already satisfied: numpy>=1.13.3 in /usr/local/lib/python3.10/dist-packages (from ortools) (1.26.4)\n",
            "Requirement already satisfied: pandas>=2.0.0 in /usr/local/lib/python3.10/dist-packages (from ortools) (2.2.2)\n",
            "Collecting protobuf<5.27,>=5.26.1 (from ortools)\n",
            "  Downloading protobuf-5.26.1-cp37-abi3-manylinux2014_x86_64.whl.metadata (592 bytes)\n",
            "Requirement already satisfied: immutabledict>=3.0.0 in /usr/local/lib/python3.10/dist-packages (from ortools) (4.2.0)\n",
            "Requirement already satisfied: python-dateutil>=2.8.2 in /usr/local/lib/python3.10/dist-packages (from pandas>=2.0.0->ortools) (2.8.2)\n",
            "Requirement already satisfied: pytz>=2020.1 in /usr/local/lib/python3.10/dist-packages (from pandas>=2.0.0->ortools) (2024.2)\n",
            "Requirement already satisfied: tzdata>=2022.7 in /usr/local/lib/python3.10/dist-packages (from pandas>=2.0.0->ortools) (2024.2)\n",
            "Requirement already satisfied: six>=1.5 in /usr/local/lib/python3.10/dist-packages (from python-dateutil>=2.8.2->pandas>=2.0.0->ortools) (1.16.0)\n",
            "Downloading ortools-9.11.4210-cp310-cp310-manylinux_2_17_x86_64.manylinux2014_x86_64.whl (28.1 MB)\n",
            "\u001b[2K   \u001b[90m━━━━━━━━━━━━━━━━━━━━━━━━━━━━━━━━━━━━━━━━\u001b[0m \u001b[32m28.1/28.1 MB\u001b[0m \u001b[31m20.6 MB/s\u001b[0m eta \u001b[36m0:00:00\u001b[0m\n",
            "\u001b[?25hDownloading absl_py-2.1.0-py3-none-any.whl (133 kB)\n",
            "\u001b[2K   \u001b[90m━━━━━━━━━━━━━━━━━━━━━━━━━━━━━━━━━━━━━━━━\u001b[0m \u001b[32m133.7/133.7 kB\u001b[0m \u001b[31m7.4 MB/s\u001b[0m eta \u001b[36m0:00:00\u001b[0m\n",
            "\u001b[?25hDownloading protobuf-5.26.1-cp37-abi3-manylinux2014_x86_64.whl (302 kB)\n",
            "\u001b[2K   \u001b[90m━━━━━━━━━━━━━━━━━━━━━━━━━━━━━━━━━━━━━━━━\u001b[0m \u001b[32m302.8/302.8 kB\u001b[0m \u001b[31m9.9 MB/s\u001b[0m eta \u001b[36m0:00:00\u001b[0m\n",
            "\u001b[?25hInstalling collected packages: protobuf, absl-py, ortools\n",
            "  Attempting uninstall: protobuf\n",
            "    Found existing installation: protobuf 3.20.3\n",
            "    Uninstalling protobuf-3.20.3:\n",
            "      Successfully uninstalled protobuf-3.20.3\n",
            "  Attempting uninstall: absl-py\n",
            "    Found existing installation: absl-py 1.4.0\n",
            "    Uninstalling absl-py-1.4.0:\n",
            "      Successfully uninstalled absl-py-1.4.0\n",
            "\u001b[31mERROR: pip's dependency resolver does not currently take into account all the packages that are installed. This behaviour is the source of the following dependency conflicts.\n",
            "google-cloud-datastore 2.19.0 requires protobuf!=3.20.0,!=3.20.1,!=4.21.0,!=4.21.1,!=4.21.2,!=4.21.3,!=4.21.4,!=4.21.5,<5.0.0dev,>=3.19.5, but you have protobuf 5.26.1 which is incompatible.\n",
            "google-cloud-firestore 2.16.1 requires protobuf!=3.20.0,!=3.20.1,!=4.21.0,!=4.21.1,!=4.21.2,!=4.21.3,!=4.21.4,!=4.21.5,<5.0.0dev,>=3.19.5, but you have protobuf 5.26.1 which is incompatible.\n",
            "tensorboard 2.17.0 requires protobuf!=4.24.0,<5.0.0,>=3.19.6, but you have protobuf 5.26.1 which is incompatible.\n",
            "tensorflow 2.17.0 requires protobuf!=4.21.0,!=4.21.1,!=4.21.2,!=4.21.3,!=4.21.4,!=4.21.5,<5.0.0dev,>=3.20.3, but you have protobuf 5.26.1 which is incompatible.\n",
            "tensorflow-metadata 1.16.1 requires protobuf<4.21,>=3.20.3; python_version < \"3.11\", but you have protobuf 5.26.1 which is incompatible.\u001b[0m\u001b[31m\n",
            "\u001b[0mSuccessfully installed absl-py-2.1.0 ortools-9.11.4210 protobuf-5.26.1\n"
          ]
        }
      ]
    },
    {
      "cell_type": "code",
      "source": [
        "#@title Download wordlist\n",
        "\n",
        "!wget -nc https://github.com/eyaler/hebrew_wordlists/raw/refs/heads/main/intersect/mc4_intersect_no_fatverb.csv -O wordlist.csv"
      ],
      "metadata": {
        "id": "tSn1sYzkGltt",
        "colab": {
          "base_uri": "https://localhost:8080/"
        },
        "outputId": "61435fc4-8669-48dc-98ba-fceafc17fd4a"
      },
      "execution_count": 3,
      "outputs": [
        {
          "output_type": "stream",
          "name": "stdout",
          "text": [
            "--2024-10-28 14:33:28--  https://github.com/eyaler/hebrew_wordlists/raw/refs/heads/main/intersect/mc4_intersect_no_fatverb.csv\n",
            "Resolving github.com (github.com)... 140.82.112.3\n",
            "Connecting to github.com (github.com)|140.82.112.3|:443... connected.\n",
            "HTTP request sent, awaiting response... 302 Found\n",
            "Location: https://raw.githubusercontent.com/eyaler/hebrew_wordlists/refs/heads/main/intersect/mc4_intersect_no_fatverb.csv [following]\n",
            "--2024-10-28 14:33:29--  https://raw.githubusercontent.com/eyaler/hebrew_wordlists/refs/heads/main/intersect/mc4_intersect_no_fatverb.csv\n",
            "Resolving raw.githubusercontent.com (raw.githubusercontent.com)... 185.199.108.133, 185.199.109.133, 185.199.110.133, ...\n",
            "Connecting to raw.githubusercontent.com (raw.githubusercontent.com)|185.199.108.133|:443... connected.\n",
            "HTTP request sent, awaiting response... 200 OK\n",
            "Length: 3574389 (3.4M) [text/plain]\n",
            "Saving to: ‘wordlist.csv’\n",
            "\n",
            "wordlist.csv        100%[===================>]   3.41M  --.-KB/s    in 0.1s    \n",
            "\n",
            "2024-10-28 14:33:29 (35.2 MB/s) - ‘wordlist.csv’ saved [3574389/3574389]\n",
            "\n"
          ]
        }
      ]
    },
    {
      "cell_type": "code",
      "source": [
        "#@title Load and preprocess wordlist\n",
        "\n",
        "with open('wordlist.csv', encoding='utf8') as f:\n",
        "    wordlist = f.read().replace('ך', 'כ').replace('ם', 'מ').replace('ן', 'נ').replace('ף', 'פ').replace('ץ', 'צ').splitlines()\n",
        "\n",
        "word2score = {w.split(',')[0]: int(w.split(',')[1]) for w in wordlist[::-1]}\n",
        "\n",
        "for w, s in list(word2score.items())[-5:]:\n",
        "  print(f'{w} {s:,}')\n",
        "\n",
        "print()\n",
        "for w, s in list(word2score.items())[:5]:\n",
        "  print(f'{w} {s:,}')"
      ],
      "metadata": {
        "colab": {
          "base_uri": "https://localhost:8080/"
        },
        "id": "4Hq7N-ghL20H",
        "outputId": "f25e7335-39f5-4095-e49e-29219491f723"
      },
      "execution_count": 15,
      "outputs": [
        {
          "output_type": "stream",
          "name": "stdout",
          "text": [
            "עמ 23,385,649\n",
            "לא 37,013,163\n",
            "על 51,535,935\n",
            "את 69,835,058\n",
            "של 74,641,565\n",
            "\n",
            "תתרשלנה 1\n",
            "תתרקמו 1\n",
            "תתרפטנה 1\n",
            "תתרפטי 1\n",
            "תתרנותי 1\n"
          ]
        }
      ]
    },
    {
      "cell_type": "code",
      "source": [
        "#@title Filter wordlist\n",
        "\n",
        "limit = 2000\n",
        "\n",
        "wordlist = [w for w in word2score if '\"' not in w and \"'\" not in w and len(w) == 3 and (len(set(w)) == 3 or len(set(w)) == 2 and any(w.count(c) == 2 for c in 'כמנפצ'))][::-1][:limit]\n",
        "print(f'{len(wordlist)=}')\n",
        "\n",
        "print()\n",
        "for w in wordlist[:5]:\n",
        "  print(f'{w} {word2score[w]:,}')\n",
        "\n",
        "print()\n",
        "for w in wordlist[-5:]:\n",
        "  print(f'{w} {word2score[w]:,}')"
      ],
      "metadata": {
        "colab": {
          "base_uri": "https://localhost:8080/"
        },
        "id": "UIgwlwitRNAw",
        "outputId": "c391c7c6-10f3-4c6a-9b68-ca69ebf800dd"
      },
      "execution_count": 16,
      "outputs": [
        {
          "output_type": "stream",
          "name": "stdout",
          "text": [
            "len(wordlist)=2000\n",
            "\n",
            "הוא 21,755,267\n",
            "היא 12,740,845\n",
            "אני 11,308,587\n",
            "אבל 9,421,249\n",
            "בינ 8,466,909\n",
            "\n",
            "פוג 1,907\n",
            "יאט 1,898\n",
            "אגש 1,892\n",
            "סכה 1,883\n",
            "מחא 1,882\n"
          ]
        }
      ]
    },
    {
      "cell_type": "code",
      "execution_count": 6,
      "metadata": {
        "id": "ccvk2hHhGed6"
      },
      "outputs": [],
      "source": [
        "#@title Setup model and solver\n",
        "\n",
        "from ortools.sat.python import cp_model\n",
        "\n",
        "model = cp_model.CpModel()\n",
        "solver = cp_model.CpSolver()\n",
        "\n",
        "#solver.parameters.log_search_progress = True  # If you want logging. See: https://d-krupke.github.io/cpsat-primer/05_parameters.html#logging"
      ]
    },
    {
      "cell_type": "code",
      "source": [
        "#@title Create cell (char) variables\n",
        "\n",
        "cells = {}\n",
        "flat = []\n",
        "for x in range(3):\n",
        "    for y in range(3):\n",
        "        for z in range(3):\n",
        "            cells[(x, y, z)] = model.new_int_var(0, 21, f'cells_{x}_{y}_{z}')\n",
        "            flat.append(cells[(x, y, z)])"
      ],
      "metadata": {
        "id": "UZP-0X61P-9-"
      },
      "execution_count": 7,
      "outputs": []
    },
    {
      "cell_type": "code",
      "source": [
        "#@title Create boolean indicator variables, link them to the cell variables, and add count constraints\n",
        "\n",
        "final_vals = (10, 12, 13, 16, 17)  # צ ,פ ,נ, מ ,כ\n",
        "\n",
        "is_char = {}\n",
        "for i in range(22):\n",
        "    is_char[i] = []\n",
        "\n",
        "    for j in range(27):\n",
        "        is_char[i].append(model.new_bool_var(f'is_char_{i}_{j}'))\n",
        "        model.add(flat[j] == i).only_enforce_if(is_char[i][j])  # https://developers.google.com/optimization/cp/channeling\n",
        "        model.add(flat[j] != i).only_enforce_if(~is_char[i][j])\n",
        "\n",
        "    if i in final_vals:\n",
        "        model.add(sum(is_char[i]) == 2)\n",
        "    else:\n",
        "        model.add_exactly_one(is_char[i])"
      ],
      "metadata": {
        "id": "UdHuG8bvQDdU"
      },
      "execution_count": 8,
      "outputs": []
    },
    {
      "cell_type": "code",
      "source": [
        "#@title Add allowed assignments (words + scores)\n",
        "allowed = [tuple(ord(c) - ord('א') - sum(ord(c) >= ord(f) for f in 'כמנפצ') for c in w) + tuple([word2score[w]]) for w in wordlist]\n",
        "for a in allowed[:5]:\n",
        "  print(a)\n",
        "\n",
        "score_values = [word2score[w] for w in wordlist]\n",
        "domain = cp_model.Domain.from_values(score_values)\n",
        "scores = []\n",
        "\n",
        "\n",
        "def add_score_var():\n",
        "    scores.append(model.new_int_var_from_domain(domain, f'score_{len(scores)}'))\n",
        "    return scores[-1]\n",
        "\n",
        "\n",
        "for i in range(3):\n",
        "    for j in range(3):\n",
        "        model.add_allowed_assignments((cells[(0, i, j)], cells[(1, i, j)], cells[(2, i, j)], add_score_var()), allowed)\n",
        "        model.add_allowed_assignments((cells[(i, 0, j)], cells[(i, 1, j)], cells[(i, 2, j)], add_score_var()), allowed)\n",
        "        model.add_allowed_assignments((cells[(i, j, 0)], cells[(i, j, 1)], cells[(i, j, 2)], add_score_var()), allowed)"
      ],
      "metadata": {
        "colab": {
          "base_uri": "https://localhost:8080/"
        },
        "id": "45xyX5VaQYkA",
        "outputId": "40b145f0-57cc-4584-83cd-6f71767969cf"
      },
      "execution_count": 17,
      "outputs": [
        {
          "output_type": "stream",
          "name": "stdout",
          "text": [
            "(4, 5, 0, 21755267)\n",
            "(4, 9, 0, 12740845)\n",
            "(0, 13, 9, 11308587)\n",
            "(0, 1, 11, 9421249)\n",
            "(1, 9, 13, 8466909)\n"
          ]
        }
      ]
    },
    {
      "cell_type": "code",
      "source": [
        "#@title Add sweetheart name constraint (this also helps break solution symmetry, and will run faster for this tutorial)\n",
        "\n",
        "model.add(cells[(1, 1, 0)] == 9)   # י\n",
        "model.add(cells[(1, 1, 1)] == 15)  # ע\n",
        "model.add(cells[(1, 1, 2)] == 11)  # ל"
      ],
      "metadata": {
        "colab": {
          "base_uri": "https://localhost:8080/"
        },
        "id": "VjI_Onw-QcbN",
        "outputId": "989531b0-434c-4601-8194-76fe986da48e"
      },
      "execution_count": 10,
      "outputs": [
        {
          "output_type": "execute_result",
          "data": {
            "text/plain": [
              "<ortools.sat.python.cp_model.Constraint at 0x7aa755f4a800>"
            ]
          },
          "metadata": {},
          "execution_count": 10
        }
      ]
    },
    {
      "cell_type": "code",
      "source": [
        "#@title Solve to check whether any solution exists (optional)\n",
        "\n",
        "solver.solve(model)\n",
        "print(solver.status_name())"
      ],
      "metadata": {
        "id": "bs7XoLXPLwoP",
        "colab": {
          "base_uri": "https://localhost:8080/"
        },
        "outputId": "7dd6644c-f02e-4efa-d844-61a48b89e69f"
      },
      "execution_count": 11,
      "outputs": [
        {
          "output_type": "stream",
          "name": "stdout",
          "text": [
            "OPTIMAL\n"
          ]
        }
      ]
    },
    {
      "cell_type": "code",
      "source": [
        "#@title Solve to find optimal solution score\n",
        "\n",
        "class ObjectiveLogger(cp_model.CpSolverSolutionCallback):\n",
        "    def on_solution_callback(self):\n",
        "        print(f'{self.objective_value=} {self.best_objective_bound=}')\n",
        "\n",
        "worst = model.new_int_var_from_domain(domain, 'worst')\n",
        "model.add_min_equality(worst, scores)\n",
        "model.maximize(worst)\n",
        "\n",
        "solver.solve(model, ObjectiveLogger())\n",
        "\n",
        "print([w for w in wordlist if word2score[w] == solver.objective_value])"
      ],
      "metadata": {
        "id": "gKcK0h2sLzVk",
        "colab": {
          "base_uri": "https://localhost:8080/"
        },
        "outputId": "4dd0e510-afe4-4162-d371-de98cbe15fec"
      },
      "execution_count": 12,
      "outputs": [
        {
          "output_type": "stream",
          "name": "stdout",
          "text": [
            "self.objective_value=2127.0 self.best_objective_bound=229540.0\n",
            "self.objective_value=2565.0 self.best_objective_bound=229540.0\n",
            "self.objective_value=3269.0 self.best_objective_bound=229540.0\n",
            "['צבנ']\n"
          ]
        }
      ]
    },
    {
      "cell_type": "code",
      "source": [
        "#@title Solve to find all optimal solutions (of optimal scores)\n",
        "\n",
        "class SolutionCollector(cp_model.CpSolverSolutionCallback):\n",
        "    def __init__(self):\n",
        "        super().__init__()\n",
        "        self.solutions = []\n",
        "\n",
        "    def decode(self, a, b, c):\n",
        "        return ''.join(chr(self.value(v) + ord('א') + sum(self.value(v) >= f for f in final_vals)) for v in (a, b, c))\n",
        "\n",
        "    def on_solution_callback(self):\n",
        "        solution = []\n",
        "        for i in range(3):\n",
        "            for j in range(3):\n",
        "                solution.append(self.decode(cells[(0, i, j)], cells[(1, i, j)], cells[(2, i, j)]))\n",
        "                solution.append(self.decode(cells[(i, 0, j)], cells[(i, 1, j)], cells[(i, 2, j)]))\n",
        "                solution.append(self.decode(cells[(i, j, 0)], cells[(i, j, 1)], cells[(i, j, 2)]))\n",
        "\n",
        "        self.solutions.append(solution)\n",
        "        print(len(self.solutions), solution)\n",
        "\n",
        "\n",
        "model.clear_objective()  # needed for reusing the model to find multiple solution (i asked them to add this function!)\n",
        "model.add(worst == int(solver.objective_value))  # comment out to get all (non-optimal) solutions\n",
        "\n",
        "solver.parameters.enumerate_all_solutions = True  # Note this disables parallelism\n",
        "solution_collector = SolutionCollector()\n",
        "solver.solve(model, solution_collector)"
      ],
      "metadata": {
        "id": "DmB_d_U0L15N",
        "colab": {
          "base_uri": "https://localhost:8080/"
        },
        "outputId": "ab8c8ed6-e836-450f-ea01-168cf91d2c0d"
      },
      "execution_count": 13,
      "outputs": [
        {
          "output_type": "stream",
          "name": "stdout",
          "text": [
            "1 ['שטנ', 'שאג', 'שחק', 'חרפ', 'חמד', 'אמצ', 'קפצ', 'קצת', 'גדת', 'איכ', 'טיס', 'טרפ', 'מעז', 'רעמ', 'יעל', 'צלב', 'פלכ', 'סמכ', 'גסה', 'נכה', 'נפצ', 'דמו', 'פזו', 'כזב', 'תכנ', 'צבנ', 'הונ']\n",
            "2 ['שאג', 'שטנ', 'שחק', 'חמד', 'חרפ', 'טרפ', 'קצת', 'קפצ', 'נפצ', 'טיס', 'איכ', 'אמצ', 'רעמ', 'מעז', 'יעל', 'פלכ', 'צלב', 'כזב', 'נכה', 'גסה', 'גדת', 'פזו', 'דמו', 'סמכ', 'צבנ', 'תכנ', 'הונ']\n"
          ]
        },
        {
          "output_type": "execute_result",
          "data": {
            "text/plain": [
              "4"
            ]
          },
          "metadata": {},
          "execution_count": 13
        }
      ]
    },
    {
      "cell_type": "code",
      "source": [
        "from IPython.display import IFrame\n",
        "\n",
        "chars = ''.join(solution_collector.solutions[0][::3])[::-1].replace('כ', 'ך', 1).replace('מ', 'ם', 1).replace('נ', 'ן', 1).replace('פ', 'ף', 1).replace('צ', 'ץ', 1)[::-1]\n",
        "print(chars)\n",
        "IFrame(src=f'https://eyalgruss.com/constrained/pan3d/demo#{chars}', width=1600, height=900)"
      ],
      "metadata": {
        "id": "HHdpAkpyqjif",
        "colab": {
          "base_uri": "https://localhost:8080/",
          "height": 938
        },
        "outputId": "559cb94c-1d1f-4a74-efe1-5a8effcc6086"
      },
      "execution_count": 14,
      "outputs": [
        {
          "output_type": "stream",
          "name": "stdout",
          "text": [
            "שטנחרפקףצאיכמעזץלבגסהדםותךן\n"
          ]
        },
        {
          "output_type": "execute_result",
          "data": {
            "text/plain": [
              "<IPython.lib.display.IFrame at 0x7aa758b84c70>"
            ],
            "text/html": [
              "\n",
              "        <iframe\n",
              "            width=\"1600\"\n",
              "            height=\"900\"\n",
              "            src=\"https://eyalgruss.com/constrained/pan3d/demo#שטנחרפקףצאיכמעזץלבגסהדםותךן\"\n",
              "            frameborder=\"0\"\n",
              "            allowfullscreen\n",
              "            \n",
              "        ></iframe>\n",
              "        "
            ]
          },
          "metadata": {},
          "execution_count": 14
        }
      ]
    }
  ]
}