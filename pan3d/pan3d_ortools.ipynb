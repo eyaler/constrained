{
  "nbformat": 4,
  "nbformat_minor": 0,
  "metadata": {
    "colab": {
      "provenance": [],
      "authorship_tag": "ABX9TyM6rZB8z2IGMb1jvjDjOs16",
      "include_colab_link": true
    },
    "kernelspec": {
      "name": "python3",
      "display_name": "Python 3"
    },
    "language_info": {
      "name": "python"
    }
  },
  "cells": [
    {
      "cell_type": "markdown",
      "metadata": {
        "id": "view-in-github",
        "colab_type": "text"
      },
      "source": [
        "<a href=\"https://colab.research.google.com/github/eyaler/constrained/blob/main/pan3d/pan3d_ortools.ipynb\" target=\"_parent\"><img src=\"https://colab.research.google.com/assets/colab-badge.svg\" alt=\"Open In Colab\"/></a>"
      ]
    },
    {
      "cell_type": "markdown",
      "source": [
        "# Let Our Optima Combine!\n",
        "\n",
        "### A tutorial on combinatorial optimization with OR-Tools CP-SAT [[Slides](https://docs.google.com/presentation/d/1XwGUkprVfCdDp9Z1ZMbcDOxTSLhVopPyiRTCGYWmDGQ/edit#slide=id.g31026cc2b61_0_189)]\n",
        "\n",
        "or\n",
        "\n",
        "### Can any form (diamond, pyramid) contain all ~~26~~ 27 letters? [[Word Ways challenge from 1979](https://digitalcommons.butler.edu/cgi/viewcontent.cgi?article=2326&context=wordways)]"
      ],
      "metadata": {
        "id": "93u9mLcaSlU-"
      }
    },
    {
      "cell_type": "code",
      "source": [
        "import locale\n",
        "locale.getpreferredencoding = lambda: 'UTF-8'"
      ],
      "metadata": {
        "id": "kCJyUrX18g-Q"
      },
      "execution_count": null,
      "outputs": []
    },
    {
      "cell_type": "code",
      "source": [
        "#@title The attack plan\n",
        "from IPython.display import IFrame\n",
        "\n",
        "IFrame(src='https://eyalgruss.com/constrained/pan3d/demo', width=1400, height=800)"
      ],
      "metadata": {
        "colab": {
          "base_uri": "https://localhost:8080/",
          "height": 821
        },
        "id": "TKCq1i6KrDZL",
        "outputId": "db12e30d-3f57-4085-baf0-d54277ece7a5"
      },
      "execution_count": null,
      "outputs": [
        {
          "output_type": "execute_result",
          "data": {
            "text/plain": [
              "<IPython.lib.display.IFrame at 0x7cb98b60bd30>"
            ],
            "text/html": [
              "\n",
              "        <iframe\n",
              "            width=\"1400\"\n",
              "            height=\"800\"\n",
              "            src=\"https://eyalgruss.com/constrained/pan3d/demo\"\n",
              "            frameborder=\"0\"\n",
              "            allowfullscreen\n",
              "            \n",
              "        ></iframe>\n",
              "        "
            ]
          },
          "metadata": {},
          "execution_count": 2
        }
      ]
    },
    {
      "cell_type": "code",
      "source": [
        "#@title Install dependencies\n",
        "\n",
        "!pip install ortools"
      ],
      "metadata": {
        "id": "USSD6mjxGhCM",
        "colab": {
          "base_uri": "https://localhost:8080/"
        },
        "outputId": "1ed80f8d-e3de-44be-fabd-d9ca85814843"
      },
      "execution_count": null,
      "outputs": [
        {
          "output_type": "stream",
          "name": "stdout",
          "text": [
            "Collecting ortools\n",
            "  Downloading ortools-9.11.4210-cp310-cp310-manylinux_2_17_x86_64.manylinux2014_x86_64.whl.metadata (3.0 kB)\n",
            "Collecting absl-py>=2.0.0 (from ortools)\n",
            "  Downloading absl_py-2.1.0-py3-none-any.whl.metadata (2.3 kB)\n",
            "Requirement already satisfied: numpy>=1.13.3 in /usr/local/lib/python3.10/dist-packages (from ortools) (1.26.4)\n",
            "Requirement already satisfied: pandas>=2.0.0 in /usr/local/lib/python3.10/dist-packages (from ortools) (2.2.2)\n",
            "Collecting protobuf<5.27,>=5.26.1 (from ortools)\n",
            "  Downloading protobuf-5.26.1-cp37-abi3-manylinux2014_x86_64.whl.metadata (592 bytes)\n",
            "Requirement already satisfied: immutabledict>=3.0.0 in /usr/local/lib/python3.10/dist-packages (from ortools) (4.2.0)\n",
            "Requirement already satisfied: python-dateutil>=2.8.2 in /usr/local/lib/python3.10/dist-packages (from pandas>=2.0.0->ortools) (2.8.2)\n",
            "Requirement already satisfied: pytz>=2020.1 in /usr/local/lib/python3.10/dist-packages (from pandas>=2.0.0->ortools) (2024.2)\n",
            "Requirement already satisfied: tzdata>=2022.7 in /usr/local/lib/python3.10/dist-packages (from pandas>=2.0.0->ortools) (2024.2)\n",
            "Requirement already satisfied: six>=1.5 in /usr/local/lib/python3.10/dist-packages (from python-dateutil>=2.8.2->pandas>=2.0.0->ortools) (1.16.0)\n",
            "Downloading ortools-9.11.4210-cp310-cp310-manylinux_2_17_x86_64.manylinux2014_x86_64.whl (28.1 MB)\n",
            "\u001b[2K   \u001b[90m━━━━━━━━━━━━━━━━━━━━━━━━━━━━━━━━━━━━━━━━\u001b[0m \u001b[32m28.1/28.1 MB\u001b[0m \u001b[31m24.0 MB/s\u001b[0m eta \u001b[36m0:00:00\u001b[0m\n",
            "\u001b[?25hDownloading absl_py-2.1.0-py3-none-any.whl (133 kB)\n",
            "\u001b[2K   \u001b[90m━━━━━━━━━━━━━━━━━━━━━━━━━━━━━━━━━━━━━━━━\u001b[0m \u001b[32m133.7/133.7 kB\u001b[0m \u001b[31m7.7 MB/s\u001b[0m eta \u001b[36m0:00:00\u001b[0m\n",
            "\u001b[?25hDownloading protobuf-5.26.1-cp37-abi3-manylinux2014_x86_64.whl (302 kB)\n",
            "\u001b[2K   \u001b[90m━━━━━━━━━━━━━━━━━━━━━━━━━━━━━━━━━━━━━━━━\u001b[0m \u001b[32m302.8/302.8 kB\u001b[0m \u001b[31m14.3 MB/s\u001b[0m eta \u001b[36m0:00:00\u001b[0m\n",
            "\u001b[?25hInstalling collected packages: protobuf, absl-py, ortools\n",
            "  Attempting uninstall: protobuf\n",
            "    Found existing installation: protobuf 3.20.3\n",
            "    Uninstalling protobuf-3.20.3:\n",
            "      Successfully uninstalled protobuf-3.20.3\n",
            "  Attempting uninstall: absl-py\n",
            "    Found existing installation: absl-py 1.4.0\n",
            "    Uninstalling absl-py-1.4.0:\n",
            "      Successfully uninstalled absl-py-1.4.0\n",
            "\u001b[31mERROR: pip's dependency resolver does not currently take into account all the packages that are installed. This behaviour is the source of the following dependency conflicts.\n",
            "google-cloud-datastore 2.19.0 requires protobuf!=3.20.0,!=3.20.1,!=4.21.0,!=4.21.1,!=4.21.2,!=4.21.3,!=4.21.4,!=4.21.5,<5.0.0dev,>=3.19.5, but you have protobuf 5.26.1 which is incompatible.\n",
            "google-cloud-firestore 2.16.1 requires protobuf!=3.20.0,!=3.20.1,!=4.21.0,!=4.21.1,!=4.21.2,!=4.21.3,!=4.21.4,!=4.21.5,<5.0.0dev,>=3.19.5, but you have protobuf 5.26.1 which is incompatible.\n",
            "tensorboard 2.17.0 requires protobuf!=4.24.0,<5.0.0,>=3.19.6, but you have protobuf 5.26.1 which is incompatible.\n",
            "tensorflow 2.17.0 requires protobuf!=4.21.0,!=4.21.1,!=4.21.2,!=4.21.3,!=4.21.4,!=4.21.5,<5.0.0dev,>=3.20.3, but you have protobuf 5.26.1 which is incompatible.\n",
            "tensorflow-metadata 1.16.1 requires protobuf<4.21,>=3.20.3; python_version < \"3.11\", but you have protobuf 5.26.1 which is incompatible.\u001b[0m\u001b[31m\n",
            "\u001b[0mSuccessfully installed absl-py-2.1.0 ortools-9.11.4210 protobuf-5.26.1\n"
          ]
        }
      ]
    },
    {
      "cell_type": "code",
      "source": [
        "#@title Download wordlist\n",
        "\n",
        "!wget -nc https://github.com/eyaler/hebrew_wordlists/raw/refs/heads/main/intersect/mc4_intersect_no_fatverb.csv -O wordlist.csv"
      ],
      "metadata": {
        "id": "tSn1sYzkGltt",
        "colab": {
          "base_uri": "https://localhost:8080/"
        },
        "outputId": "b0b26fad-023c-4244-913a-a59306410b83"
      },
      "execution_count": null,
      "outputs": [
        {
          "output_type": "stream",
          "name": "stdout",
          "text": [
            "--2024-10-30 15:34:39--  https://github.com/eyaler/hebrew_wordlists/raw/refs/heads/main/intersect/mc4_intersect_no_fatverb.csv\n",
            "Resolving github.com (github.com)... 140.82.116.4\n",
            "Connecting to github.com (github.com)|140.82.116.4|:443... connected.\n",
            "HTTP request sent, awaiting response... 302 Found\n",
            "Location: https://raw.githubusercontent.com/eyaler/hebrew_wordlists/refs/heads/main/intersect/mc4_intersect_no_fatverb.csv [following]\n",
            "--2024-10-30 15:34:40--  https://raw.githubusercontent.com/eyaler/hebrew_wordlists/refs/heads/main/intersect/mc4_intersect_no_fatverb.csv\n",
            "Resolving raw.githubusercontent.com (raw.githubusercontent.com)... 185.199.108.133, 185.199.109.133, 185.199.110.133, ...\n",
            "Connecting to raw.githubusercontent.com (raw.githubusercontent.com)|185.199.108.133|:443... connected.\n",
            "HTTP request sent, awaiting response... 200 OK\n",
            "Length: 3574389 (3.4M) [text/plain]\n",
            "Saving to: ‘wordlist.csv’\n",
            "\n",
            "wordlist.csv        100%[===================>]   3.41M  --.-KB/s    in 0.05s   \n",
            "\n",
            "2024-10-30 15:34:41 (65.5 MB/s) - ‘wordlist.csv’ saved [3574389/3574389]\n",
            "\n"
          ]
        }
      ]
    },
    {
      "cell_type": "code",
      "source": [
        "#@title Load and preprocess wordlist\n",
        "\n",
        "with open('wordlist.csv', encoding='utf8') as f:\n",
        "    wordlist = f.read().replace('ך', 'כ').replace('ם', 'מ').replace('ן', 'נ').replace('ף', 'פ').replace('ץ', 'צ').splitlines()\n",
        "\n",
        "word2score = {w.split(',')[0]: int(w.split(',')[1]) for w in wordlist[::-1]}\n",
        "\n",
        "for w, s in list(word2score.items())[-5:]:\n",
        "  print(f'{w} {s:,}')\n",
        "\n",
        "print()\n",
        "for w, s in list(word2score.items())[:5]:\n",
        "  print(f'{w} {s:,}')"
      ],
      "metadata": {
        "colab": {
          "base_uri": "https://localhost:8080/"
        },
        "id": "4Hq7N-ghL20H",
        "outputId": "ff408efa-7d74-4602-c94a-61fa4501f7cb"
      },
      "execution_count": null,
      "outputs": [
        {
          "output_type": "stream",
          "name": "stdout",
          "text": [
            "עמ 23,385,649\n",
            "לא 37,013,163\n",
            "על 51,535,935\n",
            "את 69,835,058\n",
            "של 74,641,565\n",
            "\n",
            "תתרשלנה 1\n",
            "תתרקמו 1\n",
            "תתרפטנה 1\n",
            "תתרפטי 1\n",
            "תתרנותי 1\n"
          ]
        }
      ]
    },
    {
      "cell_type": "code",
      "source": [
        "#@title Filter wordlist for allowed words\n",
        "\n",
        "limit = 2000 #@param {type: \"integer\"}\n",
        "\n",
        "if not limit:\n",
        "  limit = None\n",
        "\n",
        "wordlist = [w for w in word2score if len(w) == 3\n",
        "              and (len(set(w)) == 3 or len(set(w)) == 2 and any(w.count(c) == 2 for c in 'כמנפצ'))\n",
        "              and '\"' not in w and \"'\" not in w][::-1][:limit]\n",
        "print(f'{len(wordlist)=}')\n",
        "\n",
        "print()\n",
        "for w in wordlist[:5]:\n",
        "  print(f'{w} {word2score[w]:,}')\n",
        "\n",
        "print()\n",
        "for w in wordlist[-5:]:\n",
        "  print(f'{w} {word2score[w]:,}')"
      ],
      "metadata": {
        "colab": {
          "base_uri": "https://localhost:8080/"
        },
        "id": "UIgwlwitRNAw",
        "outputId": "63f92450-b799-4445-dcef-5ce2a1ac0087"
      },
      "execution_count": null,
      "outputs": [
        {
          "output_type": "stream",
          "name": "stdout",
          "text": [
            "len(wordlist)=2000\n",
            "\n",
            "הוא 21,755,267\n",
            "היא 12,740,845\n",
            "אני 11,308,587\n",
            "אבל 9,421,249\n",
            "בינ 8,466,909\n",
            "\n",
            "פוג 1,907\n",
            "יאט 1,898\n",
            "אגש 1,892\n",
            "סכה 1,883\n",
            "מחא 1,882\n"
          ]
        }
      ]
    },
    {
      "cell_type": "code",
      "execution_count": null,
      "metadata": {
        "id": "ccvk2hHhGed6"
      },
      "outputs": [],
      "source": [
        "#@title Setup model and solver<br>(rerun from here if you modify constraints)\n",
        "\n",
        "from ortools.sat.python import cp_model\n",
        "\n",
        "model = cp_model.CpModel()\n",
        "solver = cp_model.CpSolver()\n",
        "\n",
        "# Uncomment if you want logging (see: https://d-krupke.github.io/cpsat-primer/05_parameters.html#logging):\n",
        "#solver.parameters.log_search_progress = True"
      ]
    },
    {
      "cell_type": "code",
      "source": [
        "#@title Create cell variables for chars\n",
        "\n",
        "cells = {}\n",
        "flat = []\n",
        "for x in range(3):\n",
        "    for y in range(3):\n",
        "        for z in range(3):\n",
        "            cells[(x, y, z)] = model.new_int_var(ord('א'), ord('ת'), f'cells_{x}_{y}_{z}')\n",
        "            flat.append(cells[(x, y, z)])"
      ],
      "metadata": {
        "id": "UZP-0X61P-9-"
      },
      "execution_count": null,
      "outputs": []
    },
    {
      "cell_type": "code",
      "source": [
        "#@title Create boolean indicator variables,<br>link them to the cell variables,<br>and add count constraints\n",
        "\n",
        "is_char = {}\n",
        "for c in 'אבגדהוזחטיכלמנסעפצקרשת':\n",
        "    is_char[c] = []\n",
        "\n",
        "    for i in range(27):\n",
        "        is_char[c].append(model.new_bool_var(f'is_char_{c}_{i}'))\n",
        "\n",
        "        # If-and-only-if condition (see: https://developers.google.com/optimization/cp/channeling):\n",
        "        model.add(flat[i] == ord(c)).only_enforce_if(is_char[c][i])\n",
        "        model.add(flat[i] != ord(c)).only_enforce_if(~is_char[c][i])\n",
        "\n",
        "    if c in 'כמנפצ':\n",
        "        model.add(sum(is_char[c]) == 2)\n",
        "    else:\n",
        "        model.add_exactly_one(is_char[c])"
      ],
      "metadata": {
        "id": "UdHuG8bvQDdU"
      },
      "execution_count": null,
      "outputs": []
    },
    {
      "cell_type": "code",
      "source": [
        "#@title Add sweetheart name constraint (optional)<br>also helps break solution symmetry, and runs faster\n",
        "\n",
        "#@markdown Letters must be distinct, except כמנפצ which may appear twice:\n",
        "char1 = 'י' # @param ['א', 'ב', 'ג', 'ד', 'ה', 'ו', 'ז', 'ח', 'ט', 'י', 'כ', 'ל', 'מ', 'נ', 'ס', 'ע', 'פ', 'צ', 'ק', 'ר', 'ש', 'ת']\n",
        "char2 = 'ע' # @param ['א', 'ב', 'ג', 'ד', 'ה', 'ו', 'ז', 'ח', 'ט', 'י', 'כ', 'ל', 'מ', 'נ', 'ס', 'ע', 'פ', 'צ', 'ק', 'ר', 'ש', 'ת']\n",
        "char3 = 'ל' # @param ['א', 'ב', 'ג', 'ד', 'ה', 'ו', 'ז', 'ח', 'ט', 'י', 'כ', 'ל', 'מ', 'נ', 'ס', 'ע', 'פ', 'צ', 'ק', 'ר', 'ש', 'ת']\n",
        "#@markdown Note: If you later change this, make sure to rerun from the model setup\n",
        "\n",
        "name = char1 + char2 + char3\n",
        "assert len(set(name)) == 3 or len(set(name)) == 2 and any(name.count(c) == 2 for c in 'כמנפצ'), 'Letters must be distinct, except כמנפצ which may appear twice'\n",
        "\n",
        "if name not in wordlist:\n",
        "  word2score[name] = word2score[wordlist[0]] + 1\n",
        "  wordlist.insert(0, name)\n",
        "\n",
        "model.add(cells[(0, 1, 1)] == ord(char1))\n",
        "model.add(cells[(1, 1, 1)] == ord(char2))\n",
        "model.add(cells[(2, 1, 1)] == ord(char3))"
      ],
      "metadata": {
        "colab": {
          "base_uri": "https://localhost:8080/"
        },
        "id": "VjI_Onw-QcbN",
        "outputId": "f6390acf-4513-4be8-c544-7b39122e2ed2"
      },
      "execution_count": null,
      "outputs": [
        {
          "output_type": "execute_result",
          "data": {
            "text/plain": [
              "<ortools.sat.python.cp_model.Constraint at 0x7cb961742fe0>"
            ]
          },
          "metadata": {},
          "execution_count": 10
        }
      ]
    },
    {
      "cell_type": "code",
      "source": [
        "#@title Add allowed assignment constraints (words + scores)\n",
        "\n",
        "allowed = [[ord(c) for c in w] + [word2score[w]] for w in wordlist]\n",
        "for a in allowed[:5]:\n",
        "  print(a)\n",
        "\n",
        "score_values = [word2score[w] for w in wordlist]\n",
        "scores = []\n",
        "\n",
        "\n",
        "def new_score_var():\n",
        "    scores.append(model.new_int_var(min(score_values), max(score_values), f'score_{len(scores)}'))\n",
        "    return scores[-1]\n",
        "\n",
        "\n",
        "for i in range(3):\n",
        "    for j in range(3):\n",
        "        model.add_allowed_assignments([cells[(0, i, j)], cells[(1, i, j)], cells[(2, i, j)], new_score_var()], allowed)\n",
        "        model.add_allowed_assignments([cells[(i, 0, j)], cells[(i, 1, j)], cells[(i, 2, j)], new_score_var()], allowed)\n",
        "        model.add_allowed_assignments([cells[(i, j, 0)], cells[(i, j, 1)], cells[(i, j, 2)], new_score_var()], allowed)"
      ],
      "metadata": {
        "colab": {
          "base_uri": "https://localhost:8080/"
        },
        "id": "45xyX5VaQYkA",
        "outputId": "b5174767-ce41-4dba-a961-ec81ec3c5506"
      },
      "execution_count": null,
      "outputs": [
        {
          "output_type": "stream",
          "name": "stdout",
          "text": [
            "[1492, 1493, 1488, 21755267]\n",
            "[1492, 1497, 1488, 12740845]\n",
            "[1488, 1504, 1497, 11308587]\n",
            "[1488, 1489, 1500, 9421249]\n",
            "[1489, 1497, 1504, 8466909]\n"
          ]
        }
      ]
    },
    {
      "cell_type": "code",
      "source": [
        "#@title Solve to check feasibility (optional)\n",
        "\n",
        "solver.solve(model)\n",
        "print(solver.status_name())"
      ],
      "metadata": {
        "id": "bs7XoLXPLwoP",
        "colab": {
          "base_uri": "https://localhost:8080/"
        },
        "outputId": "a7d4e0ae-9ab6-4f95-8637-c58bc200b76e"
      },
      "execution_count": null,
      "outputs": [
        {
          "output_type": "stream",
          "name": "stdout",
          "text": [
            "OPTIMAL\n"
          ]
        }
      ]
    },
    {
      "cell_type": "code",
      "source": [
        "#@title Solve to find optimal solution score\n",
        "\n",
        "class ObjectiveLogger(cp_model.CpSolverSolutionCallback):\n",
        "    def on_solution_callback(self):\n",
        "        print(f'{self.objective_value=} {self.best_objective_bound=}')\n",
        "\n",
        "worst = model.new_int_var(min(score_values), max(score_values), 'worst')\n",
        "model.add_min_equality(worst, scores)\n",
        "model.maximize(worst)\n",
        "\n",
        "solver.solve(model, ObjectiveLogger())\n",
        "\n",
        "print([w for w in wordlist if word2score[w] == solver.objective_value])"
      ],
      "metadata": {
        "id": "gKcK0h2sLzVk",
        "colab": {
          "base_uri": "https://localhost:8080/"
        },
        "outputId": "4010b80d-12f3-4bc8-ca7d-4ffe96720845"
      },
      "execution_count": null,
      "outputs": [
        {
          "output_type": "stream",
          "name": "stdout",
          "text": [
            "self.objective_value=1967.0 self.best_objective_bound=229540.0\n",
            "self.objective_value=2565.0 self.best_objective_bound=229540.0\n",
            "self.objective_value=3269.0 self.best_objective_bound=229540.0\n",
            "['צבנ']\n"
          ]
        }
      ]
    },
    {
      "cell_type": "code",
      "source": [
        "#@title Solve to find all optimal solutions<br>(having the optimal score found above)\n",
        "\n",
        "class SolutionCollector(cp_model.CpSolverSolutionCallback):\n",
        "    def __init__(self):\n",
        "        super().__init__()\n",
        "        self.solutions = []\n",
        "\n",
        "    def decode(self, *x):\n",
        "        return ''.join(chr(self.value(v)) for v in x)\n",
        "\n",
        "    def on_solution_callback(self):\n",
        "        solution = []\n",
        "        for i in range(3):\n",
        "            for j in range(3):\n",
        "                solution.append(self.decode(cells[(0, i, j)], cells[(1, i, j)], cells[(2, i, j)]))\n",
        "                solution.append(self.decode(cells[(i, 0, j)], cells[(i, 1, j)], cells[(i, 2, j)]))\n",
        "                solution.append(self.decode(cells[(i, j, 0)], cells[(i, j, 1)], cells[(i, j, 2)]))\n",
        "\n",
        "        self.solutions.append(solution)\n",
        "        print(len(self.solutions), solution)\n",
        "\n",
        "\n",
        "model.clear_objective()  # Needed for reusing the model to find multiple solutions\n",
        "model.add(worst == int(solver.objective_value))  # Comment out to get all (non-optimal) solutions\n",
        "\n",
        "solver.parameters.enumerate_all_solutions = True  # Note this disables parallelism\n",
        "solution_collector = SolutionCollector()\n",
        "solver.solve(model, solution_collector)"
      ],
      "metadata": {
        "id": "DmB_d_U0L15N",
        "colab": {
          "base_uri": "https://localhost:8080/"
        },
        "outputId": "9790f03b-a9a4-450d-fed5-447b1ff4fced"
      },
      "execution_count": null,
      "outputs": [
        {
          "output_type": "stream",
          "name": "stdout",
          "text": [
            "1 ['שחק', 'שאג', 'שטנ', 'טרפ', 'טיס', 'איכ', 'נפצ', 'נכה', 'גסה', 'אמצ', 'חמד', 'חרפ', 'יעל', 'רעמ', 'מעז', 'כזב', 'פזו', 'דמו', 'גדת', 'קצת', 'קפצ', 'סמכ', 'פלכ', 'צלב', 'הונ', 'צבנ', 'תכנ']\n",
            "2 ['שחק', 'שטנ', 'שאג', 'אמצ', 'איכ', 'טיס', 'גדת', 'גסה', 'נכה', 'טרפ', 'חרפ', 'חמד', 'יעל', 'מעז', 'רעמ', 'סמכ', 'דמו', 'פזו', 'נפצ', 'קפצ', 'קצת', 'כזב', 'צלב', 'פלכ', 'הונ', 'תכנ', 'צבנ']\n"
          ]
        },
        {
          "output_type": "execute_result",
          "data": {
            "text/plain": [
              "4"
            ]
          },
          "metadata": {},
          "execution_count": 14
        }
      ]
    },
    {
      "cell_type": "code",
      "source": [
        "#@title The solution\n",
        "\n",
        "from IPython.display import IFrame, HTML\n",
        "\n",
        "chars = ''.join(solution_collector.solutions[0][::3])[::-1].replace('כ', 'ך', 1).replace('מ', 'ם', 1).replace('נ', 'ן', 1).replace('פ', 'ף', 1).replace('צ', 'ץ', 1)[::-1]\n",
        "url = f'https://eyalgruss.com/constrained/pan3d/demo#{chars}'\n",
        "display(HTML(f'<a href=\"{url}\">{url}</a>'))\n",
        "IFrame(src=url, width=1400, height=800)"
      ],
      "metadata": {
        "id": "HHdpAkpyqjif",
        "colab": {
          "base_uri": "https://localhost:8080/",
          "height": 838
        },
        "outputId": "053094a3-2732-4d01-fb5f-aa6ff416c2da"
      },
      "execution_count": null,
      "outputs": [
        {
          "output_type": "display_data",
          "data": {
            "text/plain": [
              "<IPython.core.display.HTML object>"
            ],
            "text/html": [
              "<a href=\"https://eyalgruss.com/constrained/pan3d/demo#שחקטרפנףצאמץיעלכזבגדתסםךהון\">https://eyalgruss.com/constrained/pan3d/demo#שחקטרפנףצאמץיעלכזבגדתסםךהון</a>"
            ]
          },
          "metadata": {}
        },
        {
          "output_type": "execute_result",
          "data": {
            "text/plain": [
              "<IPython.lib.display.IFrame at 0x7cb961743c10>"
            ],
            "text/html": [
              "\n",
              "        <iframe\n",
              "            width=\"1400\"\n",
              "            height=\"800\"\n",
              "            src=\"https://eyalgruss.com/constrained/pan3d/demo#שחקטרפנףצאמץיעלכזבגדתסםךהון\"\n",
              "            frameborder=\"0\"\n",
              "            allowfullscreen\n",
              "            \n",
              "        ></iframe>\n",
              "        "
            ]
          },
          "metadata": {},
          "execution_count": 15
        }
      ]
    }
  ]
}