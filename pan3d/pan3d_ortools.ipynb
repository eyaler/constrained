{
  "nbformat": 4,
  "nbformat_minor": 0,
  "metadata": {
    "colab": {
      "provenance": [],
      "machine_shape": "hm",
      "gpuType": "A100",
      "authorship_tag": "ABX9TyO1K/Jn537lFnsHQdRcaB4v",
      "include_colab_link": true
    },
    "kernelspec": {
      "name": "python3",
      "display_name": "Python 3"
    },
    "language_info": {
      "name": "python"
    },
    "accelerator": "GPU"
  },
  "cells": [
    {
      "cell_type": "markdown",
      "metadata": {
        "id": "view-in-github",
        "colab_type": "text"
      },
      "source": [
        "<a href=\"https://colab.research.google.com/github/eyaler/constrained/blob/main/pan3d/pan3d_ortools.ipynb\" target=\"_parent\"><img src=\"https://colab.research.google.com/assets/colab-badge.svg\" alt=\"Open In Colab\"/></a>"
      ]
    },
    {
      "cell_type": "markdown",
      "source": [
        "# Let our optima combine!\n",
        "\n",
        "### A tutorial on combinatorial optimization with OR-Tools CP-SAT\n",
        "\n",
        "or\n",
        "\n",
        "### Can any form (diamond, pyramid) contain all ~~26~~ 27 letters?\n",
        "\n",
        "[[Word Ways Challanges (Part 1)](https://digitalcommons.butler.edu/cgi/viewcontent.cgi?article=2326&context=wordways) (1979)]\n"
      ],
      "metadata": {
        "id": "93u9mLcaSlU-"
      }
    },
    {
      "cell_type": "code",
      "source": [
        "import locale\n",
        "locale.getpreferredencoding = lambda: 'UTF-8'\n",
        "\n",
        "from IPython.display import IFrame\n",
        "\n",
        "IFrame(src='https://eyalgruss.com/constrained/pan3d/demo#אבגדהוזחטיךכלםמןנסעףפץצקרשת', width=1600, height=900)"
      ],
      "metadata": {
        "id": "kCJyUrX18g-Q",
        "colab": {
          "base_uri": "https://localhost:8080/",
          "height": 941
        },
        "outputId": "6e693334-aecc-46ee-e16c-78fafc3f1b51"
      },
      "execution_count": 47,
      "outputs": [
        {
          "output_type": "execute_result",
          "data": {
            "text/plain": [
              "<IPython.lib.display.IFrame at 0x7f4d5b2874f0>"
            ],
            "text/html": [
              "\n",
              "        <iframe\n",
              "            width=\"1600\"\n",
              "            height=\"900\"\n",
              "            src=\"https://eyalgruss.com/constrained/pan3d/demo#אבגדהוזחטיךכלםמןנסעףפץצקרשת\"\n",
              "            frameborder=\"0\"\n",
              "            allowfullscreen\n",
              "            \n",
              "        ></iframe>\n",
              "        "
            ]
          },
          "metadata": {},
          "execution_count": 47
        }
      ]
    },
    {
      "cell_type": "code",
      "source": [
        "#@title Install dependencies\n",
        "\n",
        "!pip install ortools"
      ],
      "metadata": {
        "id": "USSD6mjxGhCM",
        "colab": {
          "base_uri": "https://localhost:8080/"
        },
        "outputId": "3507995a-c810-41b5-c5df-3f81ffe31d2e"
      },
      "execution_count": 48,
      "outputs": [
        {
          "output_type": "stream",
          "name": "stdout",
          "text": [
            "Requirement already satisfied: ortools in /usr/local/lib/python3.10/dist-packages (9.11.4210)\n",
            "Requirement already satisfied: absl-py>=2.0.0 in /usr/local/lib/python3.10/dist-packages (from ortools) (2.1.0)\n",
            "Requirement already satisfied: numpy>=1.13.3 in /usr/local/lib/python3.10/dist-packages (from ortools) (1.26.4)\n",
            "Requirement already satisfied: pandas>=2.0.0 in /usr/local/lib/python3.10/dist-packages (from ortools) (2.2.2)\n",
            "Requirement already satisfied: protobuf<5.27,>=5.26.1 in /usr/local/lib/python3.10/dist-packages (from ortools) (5.26.1)\n",
            "Requirement already satisfied: immutabledict>=3.0.0 in /usr/local/lib/python3.10/dist-packages (from ortools) (4.2.0)\n",
            "Requirement already satisfied: python-dateutil>=2.8.2 in /usr/local/lib/python3.10/dist-packages (from pandas>=2.0.0->ortools) (2.8.2)\n",
            "Requirement already satisfied: pytz>=2020.1 in /usr/local/lib/python3.10/dist-packages (from pandas>=2.0.0->ortools) (2024.2)\n",
            "Requirement already satisfied: tzdata>=2022.7 in /usr/local/lib/python3.10/dist-packages (from pandas>=2.0.0->ortools) (2024.2)\n",
            "Requirement already satisfied: six>=1.5 in /usr/local/lib/python3.10/dist-packages (from python-dateutil>=2.8.2->pandas>=2.0.0->ortools) (1.16.0)\n"
          ]
        }
      ]
    },
    {
      "cell_type": "code",
      "source": [
        "#@title Download wordlist\n",
        "\n",
        "!wget -nc https://github.com/eyaler/hebrew_wordlists/raw/refs/heads/main/intersect/mc4_intersect_no_fatverb.csv -O wordlist.csv"
      ],
      "metadata": {
        "id": "tSn1sYzkGltt",
        "colab": {
          "base_uri": "https://localhost:8080/"
        },
        "outputId": "3e4d7be1-98d1-470d-fac5-8493e4199dc5"
      },
      "execution_count": 49,
      "outputs": [
        {
          "output_type": "stream",
          "name": "stdout",
          "text": [
            "File ‘wordlist.csv’ already there; not retrieving.\n"
          ]
        }
      ]
    },
    {
      "cell_type": "code",
      "source": [
        "#@title Load and preprocess wordlist\n",
        "\n",
        "with open('wordlist.csv', encoding='utf8') as f:\n",
        "    wordlist = f.read().replace('ך', 'כ').replace('ם', 'מ').replace('ן', 'נ').replace('ף', 'פ').replace('ץ', 'צ').splitlines()\n",
        "\n",
        "word2score = {w.split(',')[0]: int(w.split(',')[1]) for w in wordlist[::-1]}\n",
        "\n",
        "for w, s in list(word2score.items())[-5:]:\n",
        "  print(w, s)\n",
        "\n",
        "print()\n",
        "for w, s in list(word2score.items())[:5]:\n",
        "  print(w, s)"
      ],
      "metadata": {
        "colab": {
          "base_uri": "https://localhost:8080/"
        },
        "id": "4Hq7N-ghL20H",
        "outputId": "2a153ae4-76b1-4ee4-99e5-50122d583b41"
      },
      "execution_count": 50,
      "outputs": [
        {
          "output_type": "stream",
          "name": "stdout",
          "text": [
            "עמ 23385649\n",
            "לא 37013163\n",
            "על 51535935\n",
            "את 69835058\n",
            "של 74641565\n",
            "\n",
            "תתרשלנה 1\n",
            "תתרקמו 1\n",
            "תתרפטנה 1\n",
            "תתרפטי 1\n",
            "תתרנותי 1\n"
          ]
        }
      ]
    },
    {
      "cell_type": "code",
      "source": [
        "#@title Filter wordlist\n",
        "\n",
        "limit = 2000\n",
        "\n",
        "wordlist = [w for w in word2score if '\"' not in w and \"'\" not in w and len(w) == 3 and (len(set(w)) == 3 or len(set(w)) == 2 and any(w.count(c) == 2 for c in 'כמנפצ'))][::-1][:limit]\n",
        "print(f'{len(wordlist)=}')\n",
        "\n",
        "print()\n",
        "for w in wordlist[:5]:\n",
        "  print(w, word2score[w])\n",
        "\n",
        "print()\n",
        "for w in wordlist[-5:]:\n",
        "  print(w, word2score[w])"
      ],
      "metadata": {
        "colab": {
          "base_uri": "https://localhost:8080/"
        },
        "id": "UIgwlwitRNAw",
        "outputId": "02919a16-d0e0-42a9-fad9-046302930188"
      },
      "execution_count": 51,
      "outputs": [
        {
          "output_type": "stream",
          "name": "stdout",
          "text": [
            "len(wordlist)=2000\n",
            "\n",
            "הוא 21755267\n",
            "היא 12740845\n",
            "אני 11308587\n",
            "אבל 9421249\n",
            "בינ 8466909\n",
            "\n",
            "פוג 1907\n",
            "יאט 1898\n",
            "אגש 1892\n",
            "סכה 1883\n",
            "מחא 1882\n"
          ]
        }
      ]
    },
    {
      "cell_type": "code",
      "execution_count": 52,
      "metadata": {
        "id": "ccvk2hHhGed6"
      },
      "outputs": [],
      "source": [
        "#@title Setup model and solver\n",
        "\n",
        "from ortools.sat.python import cp_model\n",
        "\n",
        "model = cp_model.CpModel()\n",
        "solver = cp_model.CpSolver()\n",
        "\n",
        "#solver.parameters.log_search_progress = True  # If you want logging. See: https://d-krupke.github.io/cpsat-primer/05_parameters.html#logging"
      ]
    },
    {
      "cell_type": "code",
      "source": [
        "#@title Create cell (char) variables\n",
        "\n",
        "cells = {}\n",
        "flat = []\n",
        "for x in range(3):\n",
        "    for y in range(3):\n",
        "        for z in range(3):\n",
        "            cells[(x, y, z)] = model.new_int_var(0, 21, f'cells_{x}_{y}_{z}')\n",
        "            flat.append(cells[(x, y, z)])"
      ],
      "metadata": {
        "id": "UZP-0X61P-9-"
      },
      "execution_count": 53,
      "outputs": []
    },
    {
      "cell_type": "code",
      "source": [
        "#@title Create boolean indicator variables, link them to the cell variables, and add count constraints\n",
        "\n",
        "final_vals = (10, 12, 13, 16, 17)  # צ ,פ ,נ, מ ,כ\n",
        "\n",
        "is_char = {}\n",
        "for i in range(22):\n",
        "    is_char[i] = []\n",
        "\n",
        "    for j in range(27):\n",
        "        is_char[i].append(model.new_bool_var(f'is_char_{i}_{j}'))\n",
        "        model.add(flat[j] == i).only_enforce_if(is_char[i][j])  # https://developers.google.com/optimization/cp/channeling\n",
        "        model.add(flat[j] != i).only_enforce_if(~is_char[i][j])\n",
        "\n",
        "    if i in final_vals:\n",
        "        model.add(sum(is_char[i]) == 2)\n",
        "    else:\n",
        "        model.add_exactly_one(is_char[i])"
      ],
      "metadata": {
        "id": "UdHuG8bvQDdU"
      },
      "execution_count": 54,
      "outputs": []
    },
    {
      "cell_type": "code",
      "source": [
        "#@title Add allowed assignments (words + scores)\n",
        "allowed = [tuple(ord(c) - ord('א') - sum(ord(c) >= ord(f) for f in 'כמנפצ') for c in w) + tuple([word2score[w]]) for w in wordlist]\n",
        "print(allowed[:5])\n",
        "\n",
        "score_values = [word2score[w] for w in wordlist]\n",
        "domain = cp_model.Domain.from_values(score_values)\n",
        "scores = []\n",
        "\n",
        "\n",
        "def add_score_var():\n",
        "    scores.append(model.new_int_var_from_domain(domain, f'score_{len(scores)}'))\n",
        "    return scores[-1]\n",
        "\n",
        "\n",
        "for i in range(3):\n",
        "    for j in range(3):\n",
        "        model.add_allowed_assignments((cells[(0, i, j)], cells[(1, i, j)], cells[(2, i, j)], add_score_var()), allowed)\n",
        "        model.add_allowed_assignments((cells[(i, 0, j)], cells[(i, 1, j)], cells[(i, 2, j)], add_score_var()), allowed)\n",
        "        model.add_allowed_assignments((cells[(i, j, 0)], cells[(i, j, 1)], cells[(i, j, 2)], add_score_var()), allowed)"
      ],
      "metadata": {
        "colab": {
          "base_uri": "https://localhost:8080/"
        },
        "id": "45xyX5VaQYkA",
        "outputId": "a7466c92-9693-4930-eaf5-17558ef28400"
      },
      "execution_count": 56,
      "outputs": [
        {
          "output_type": "stream",
          "name": "stdout",
          "text": [
            "[(4, 5, 0, 21755267), (4, 9, 0, 12740845), (0, 13, 9, 11308587), (0, 1, 11, 9421249), (1, 9, 13, 8466909)]\n"
          ]
        }
      ]
    },
    {
      "cell_type": "code",
      "source": [
        "#@title Add sweetheart name constraint (this also helps break solution symmetry, and will run faster for this tutorial)\n",
        "\n",
        "model.add(cells[(1, 1, 0)] == 9)   # י\n",
        "model.add(cells[(1, 1, 1)] == 15)  # ע\n",
        "model.add(cells[(1, 1, 2)] == 11)  # ל"
      ],
      "metadata": {
        "colab": {
          "base_uri": "https://localhost:8080/"
        },
        "id": "VjI_Onw-QcbN",
        "outputId": "a388a825-544f-497a-ce4a-d79c362e25f7"
      },
      "execution_count": 57,
      "outputs": [
        {
          "output_type": "execute_result",
          "data": {
            "text/plain": [
              "<ortools.sat.python.cp_model.Constraint at 0x7f4d5b2788e0>"
            ]
          },
          "metadata": {},
          "execution_count": 57
        }
      ]
    },
    {
      "cell_type": "code",
      "source": [
        "#@title Solve to check whether any solution exists (optional)\n",
        "\n",
        "solver.solve(model)\n",
        "print(solver.status_name())"
      ],
      "metadata": {
        "id": "bs7XoLXPLwoP",
        "colab": {
          "base_uri": "https://localhost:8080/"
        },
        "outputId": "363bd21d-9ab7-4014-d7bd-5ff16774656f"
      },
      "execution_count": 58,
      "outputs": [
        {
          "output_type": "stream",
          "name": "stdout",
          "text": [
            "OPTIMAL\n"
          ]
        }
      ]
    },
    {
      "cell_type": "code",
      "source": [
        "#@title Solve to find optimal solution score\n",
        "\n",
        "class ObjectiveLogger(cp_model.CpSolverSolutionCallback):\n",
        "    def on_solution_callback(self):\n",
        "        print(f'{self.objective_value=} {self.best_objective_bound=}')\n",
        "\n",
        "worst = model.new_int_var_from_domain(domain, 'worst')\n",
        "model.add_min_equality(worst, scores)\n",
        "model.maximize(worst)\n",
        "\n",
        "solver.solve(model, ObjectiveLogger())\n",
        "\n",
        "print([w for w in wordlist if word2score[w] == solver.objective_value])"
      ],
      "metadata": {
        "id": "gKcK0h2sLzVk",
        "colab": {
          "base_uri": "https://localhost:8080/"
        },
        "outputId": "f8eadef5-2231-48d8-8fb7-b74c6ad62dbf"
      },
      "execution_count": 59,
      "outputs": [
        {
          "output_type": "stream",
          "name": "stdout",
          "text": [
            "self.objective_value=1936.0 self.best_objective_bound=199334.0\n",
            "self.objective_value=2565.0 self.best_objective_bound=199334.0\n",
            "self.objective_value=3269.0 self.best_objective_bound=189488.0\n",
            "['צבנ']\n"
          ]
        }
      ]
    },
    {
      "cell_type": "code",
      "source": [
        "#@title Solve to find all optimal solutions (of optimal scores)\n",
        "\n",
        "class SolutionCollector(cp_model.CpSolverSolutionCallback):\n",
        "    def __init__(self):\n",
        "        super().__init__()\n",
        "        self.solutions = []\n",
        "\n",
        "    def decode(self, a, b, c):\n",
        "        return ''.join(chr(self.value(v) + ord('א') + sum(self.value(v) >= f for f in final_vals)) for v in (a, b, c))\n",
        "\n",
        "    def on_solution_callback(self):\n",
        "        solution = []\n",
        "        for i in range(3):\n",
        "            for j in range(3):\n",
        "                solution.append(self.decode(cells[(0, i, j)], cells[(1, i, j)], cells[(2, i, j)]))\n",
        "                solution.append(self.decode(cells[(i, 0, j)], cells[(i, 1, j)], cells[(i, 2, j)]))\n",
        "                solution.append(self.decode(cells[(i, j, 0)], cells[(i, j, 1)], cells[(i, j, 2)]))\n",
        "\n",
        "        self.solutions.append(solution)\n",
        "        print(len(self.solutions), solution)\n",
        "\n",
        "\n",
        "model.clear_objective()  # needed for reusing the model to find multiple solution (i asked them to add this function!)\n",
        "model.add(worst == int(solver.objective_value))  # comment out to get all (non-optimal) solutions\n",
        "\n",
        "solver.parameters.enumerate_all_solutions = True  # Note this disables parallelism\n",
        "solution_collector = SolutionCollector()\n",
        "solver.solve(model, solution_collector)"
      ],
      "metadata": {
        "id": "DmB_d_U0L15N",
        "colab": {
          "base_uri": "https://localhost:8080/"
        },
        "outputId": "270a6d59-1d83-4254-bc1a-c76347e965c3"
      },
      "execution_count": 60,
      "outputs": [
        {
          "output_type": "stream",
          "name": "stdout",
          "text": [
            "1 ['שטנ', 'שאג', 'שחק', 'חרפ', 'חמד', 'אמצ', 'קפצ', 'קצת', 'גדת', 'איכ', 'טיס', 'טרפ', 'מעז', 'רעמ', 'יעל', 'צלב', 'פלכ', 'סמכ', 'גסה', 'נכה', 'נפצ', 'דמו', 'פזו', 'כזב', 'תכנ', 'צבנ', 'הונ']\n",
            "2 ['שאג', 'שטנ', 'שחק', 'חמד', 'חרפ', 'טרפ', 'קצת', 'קפצ', 'נפצ', 'טיס', 'איכ', 'אמצ', 'רעמ', 'מעז', 'יעל', 'פלכ', 'צלב', 'כזב', 'נכה', 'גסה', 'גדת', 'פזו', 'דמו', 'סמכ', 'צבנ', 'תכנ', 'הונ']\n"
          ]
        },
        {
          "output_type": "execute_result",
          "data": {
            "text/plain": [
              "4"
            ]
          },
          "metadata": {},
          "execution_count": 60
        }
      ]
    },
    {
      "cell_type": "code",
      "source": [
        "from IPython.display import IFrame\n",
        "\n",
        "chars = ''.join(solution_collector.solutions[0][::3])[::-1].replace('כ', 'ך', 1).replace('מ', 'ם', 1).replace('נ', 'ן', 1).replace('פ', 'ף', 1).replace('צ', 'ץ', 1)[::-1]\n",
        "print(chars)\n",
        "IFrame(src=f'https://eyalgruss.com/constrained/pan3d/demo#{chars}', width=1600, height=900)"
      ],
      "metadata": {
        "id": "HHdpAkpyqjif",
        "colab": {
          "base_uri": "https://localhost:8080/",
          "height": 958
        },
        "outputId": "c3b85c74-dccb-43b6-edc5-9c9e763b1522"
      },
      "execution_count": 67,
      "outputs": [
        {
          "output_type": "stream",
          "name": "stdout",
          "text": [
            "שטנחרפקףצאיכמעזץלבגסהדםותךן\n"
          ]
        },
        {
          "output_type": "execute_result",
          "data": {
            "text/plain": [
              "<IPython.lib.display.IFrame at 0x7f4d806f2320>"
            ],
            "text/html": [
              "\n",
              "        <iframe\n",
              "            width=\"1600\"\n",
              "            height=\"900\"\n",
              "            src=\"https://eyalgruss.com/constrained/pan3d/demo#שטנחרפקףצאיכמעזץלבגסהדםותךן\"\n",
              "            frameborder=\"0\"\n",
              "            allowfullscreen\n",
              "            \n",
              "        ></iframe>\n",
              "        "
            ]
          },
          "metadata": {},
          "execution_count": 67
        }
      ]
    }
  ]
}